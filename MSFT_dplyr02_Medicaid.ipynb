{
 "cells": [
  {
   "cell_type": "code",
   "execution_count": null,
   "metadata": {
    "collapsed": true
   },
   "outputs": [],
   "source": [
    "# From Steve Miller's post at\n",
    "# http://www.dataversity.net/frequencies-r-part-1/\n"
   ]
  },
  {
   "cell_type": "code",
   "execution_count": 3,
   "metadata": {
    "collapsed": false
   },
   "outputs": [
    {
     "ename": "ERROR",
     "evalue": "Error in library(data.table): there is no package called 'data.table'\n",
     "output_type": "error",
     "traceback": [
      "Error in library(data.table): there is no package called 'data.table'\nTraceback:\n",
      "1. library(data.table)",
      "2. stop(txt, domain = NA)"
     ]
    }
   ],
   "source": [
    "library(data.table)\n",
    "library(stringr)\n",
    "library(feather)\n",
    "supressMessages(library(pryr))\n",
    "supressMessages(library(readr))\n",
    "supressMessages(library(dplyr))\n",
    "setwd(\"C://Users//v-thbeta//Desktop//examples//data//medicaid\")"
   ]
  },
  {
   "cell_type": "code",
   "execution_count": null,
   "metadata": {
    "collapsed": true
   },
   "outputs": [],
   "source": [
    "mkdate <- function(text)\n",
    "{\n",
    "    slug <- strsplit(text,\"[.]\")[[1]][1]\n",
    "    len <- length(slug)\n",
    "    supressMessages(cols <- names(read_tsv(text,n_max=1)))\n",
    "    suppressMessages(dt <- tbl_dt(read_tsv(text,skip=2,col_names=FALSE)))\n",
    "    setnames(dt,gsub(\"_\", \"\",tolower(cols)))\n",
    "    df[,year:=year]\n",
    "}\n",
    "md_df <-rbindlist(lapply(list.files(path = \".\", pattern=\"*.txt\"), mkdata),\n",
    "                 use.names=TRUE, fill=TRUE) %>% tbl_dt"
   ]
  }
 ],
 "metadata": {
  "kernelspec": {
   "display_name": "R 3.3",
   "language": "R",
   "name": "ir33"
  },
  "language_info": {
   "codemirror_mode": "r",
   "file_extension": ".r",
   "mimetype": "text/x-r-source",
   "name": "R",
   "pygments_lexer": "r",
   "version": "3.3.2"
  }
 },
 "nbformat": 4,
 "nbformat_minor": 2
}

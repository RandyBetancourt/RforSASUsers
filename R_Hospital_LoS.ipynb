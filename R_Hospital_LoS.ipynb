{
 "cells": [
  {
   "cell_type": "markdown",
   "metadata": {},
   "source": [
    "#### Length of Hospital Stay\n",
    "\n",
    "from:\n",
    "https://github.com/Microsoft/r-server-hospital-length-of-stay/blob/master/R/Hospital_Length_Of_Stay_Notebook.ipynb\n"
   ]
  },
  {
   "cell_type": "code",
   "execution_count": 1,
   "metadata": {
    "collapsed": true
   },
   "outputs": [],
   "source": [
    "# Load packages.\n",
    "library(RevoScaleR)\n",
    "library(\"MicrosoftML\")"
   ]
  },
  {
   "cell_type": "code",
   "execution_count": 2,
   "metadata": {
    "collapsed": true
   },
   "outputs": [],
   "source": [
    "db <- \"HospitalR\""
   ]
  },
  {
   "cell_type": "code",
   "execution_count": 3,
   "metadata": {
    "collapsed": false
   },
   "outputs": [],
   "source": [
    "#connect_str <- \"Driver={ODBC Driver 13 for SQL Server};Server=TRB_MICROSOFT;\n",
    "#                Database=AdventureWorks;Trusted_Connection=yes\""
   ]
  },
  {
   "cell_type": "code",
   "execution_count": 4,
   "metadata": {
    "collapsed": true
   },
   "outputs": [],
   "source": [
    "# Uses the SQL/Server Native Client 11.0 library DSN\n",
    "# This is the same library which the WPS example successfully uses to connect with at:\n",
    "# https://notebooks.azure.com/n/c11muvnt15w/notebooks/WPS_SQL_Server.ipynb\n",
    "\n",
    "connect_str <- \"Driver={SQL Server Native Client 11.0};Server=localhost;\n",
    "                Database=master;uid=REDMOND\\v-thbeta Pwd=XXXXXXXXX\""
   ]
  },
  {
   "cell_type": "code",
   "execution_count": null,
   "metadata": {
    "collapsed": false
   },
   "outputs": [],
   "source": [
    "outOdbcDS <- RxOdbcData(table=\"NewData\", connectionString = connect_str, useFastRead=TRUE)\n",
    "rxOpen(outOdbcDS, \"w\")"
   ]
  },
  {
   "cell_type": "code",
   "execution_count": 6,
   "metadata": {
    "collapsed": false
   },
   "outputs": [
    {
     "data": {
      "text/html": [
       "FALSE"
      ],
      "text/latex": [
       "FALSE"
      ],
      "text/markdown": [
       "FALSE"
      ],
      "text/plain": [
       "[1] FALSE"
      ]
     },
     "metadata": {},
     "output_type": "display_data"
    }
   ],
   "source": [
    "query <- sprintf( \"if not exists(SELECT * FROM sys.databases WHERE name = '%s') CREATE DATABASE %s;\", db, db)\n",
    "\n",
    "## Create database. \n",
    "rxExecuteSQLDDL(outOdbcDS, sSQLString = query)"
   ]
  },
  {
   "cell_type": "code",
   "execution_count": null,
   "metadata": {
    "collapsed": false
   },
   "outputs": [],
   "source": [
    "# Create database. \n",
    "rxExecuteSQLDDL(outOdbcDS, sSQLString = query)"
   ]
  },
  {
   "cell_type": "code",
   "execution_count": 9,
   "metadata": {
    "collapsed": true
   },
   "outputs": [],
   "source": [
    "# Uses the ODBC Driver 13 for SQL Server User DSN\n",
    "connect_str1 <- \"Driver={ODBC Driver 13 for SQL Server};Server=localhost;\n",
    "                Database=master;uid=REDMOND\\v-thbeta Pwd=Porsche#1\""
   ]
  },
  {
   "cell_type": "code",
   "execution_count": null,
   "metadata": {
    "collapsed": false
   },
   "outputs": [],
   "source": [
    "outOdbcDS <- RxOdbcData(table=\"NewData\", connectionString = connect_str1, useFastRead=TRUE)\n",
    "rxOpen(outOdbcDS, \"w\")"
   ]
  },
  {
   "cell_type": "code",
   "execution_count": 3,
   "metadata": {
    "collapsed": false
   },
   "outputs": [
    {
     "ename": "ERROR",
     "evalue": "Error in paste(\"Driver= {SQL Server Native Client 11.0};Server=\", instance_name, : object 'instance_name' not found\n",
     "output_type": "error",
     "traceback": [
      "Error in paste(\"Driver= {SQL Server Native Client 11.0};Server=\", instance_name, : object 'instance_name' not found\nTraceback:\n",
      "1. paste(\"Driver= {SQL Server Native Client 11.0};Server=\", instance_name, \n .     \";Database=\", database_name, \";Trusted_Connection=yes;\", \n .     sep = \"\")"
     ]
    }
   ],
   "source": [
    "connStr <- paste(\"Driver= {SQL Server Native Client 11.0};Server=\",instance_name, \";Database=\",database_name,\";Trusted_Connection=yes;\",sep=\"\");"
   ]
  },
  {
   "cell_type": "code",
   "execution_count": null,
   "metadata": {
    "collapsed": true
   },
   "outputs": [],
   "source": []
  }
 ],
 "metadata": {
  "kernelspec": {
   "display_name": "R 3.3",
   "language": "R",
   "name": "ir33"
  },
  "language_info": {
   "codemirror_mode": "r",
   "file_extension": ".r",
   "mimetype": "text/x-r-source",
   "name": "R",
   "pygments_lexer": "r",
   "version": "3.3.2"
  }
 },
 "nbformat": 4,
 "nbformat_minor": 2
}

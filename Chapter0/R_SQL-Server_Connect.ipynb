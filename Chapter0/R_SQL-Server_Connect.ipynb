{
 "cells": [
  {
   "cell_type": "markdown",
   "metadata": {},
   "source": [
    "#### Generate a RxSqlServerData data source object\n",
    "\n",
    "https://msdn.microsoft.com/en-us/microsoft-r/scaler/rxsqlserverdata#example"
   ]
  },
  {
   "cell_type": "code",
   "execution_count": 1,
   "metadata": {
    "collapsed": true
   },
   "outputs": [],
   "source": [
    "library(RevoScaleR)"
   ]
  },
  {
   "cell_type": "markdown",
   "metadata": {},
   "source": [
    "#### using the doc's example for Windows integrated authentication you would build:"
   ]
  },
  {
   "cell_type": "code",
   "execution_count": 2,
   "metadata": {
    "collapsed": false
   },
   "outputs": [],
   "source": [
    "#connStr\n",
    "instance_name <- \"TRB_MICROSOFT\"\n",
    "database_name <- \"WideWorldImportersDW\"\n",
    "connStr <- paste(\"Driver={SQL Server Native Client 11.0};Server=\",\n",
    "                 instance_name, \";Database=\",database_name,\";Trusted_Connection=true;\",sep=\"\");"
   ]
  },
  {
   "cell_type": "code",
   "execution_count": 3,
   "metadata": {
    "collapsed": false
   },
   "outputs": [
    {
     "data": {
      "text/html": [
       "'Driver={SQL Server Native Client 11.0};Server=TRB_MICROSOFT;Database=WideWorldImportersDW;Trusted_Connection=true;'"
      ],
      "text/latex": [
       "'Driver=\\{SQL Server Native Client 11.0\\};Server=TRB\\_MICROSOFT;Database=WideWorldImportersDW;Trusted\\_Connection=true;'"
      ],
      "text/markdown": [
       "'Driver={SQL Server Native Client 11.0};Server=TRB_MICROSOFT;Database=WideWorldImportersDW;Trusted_Connection=true;'"
      ],
      "text/plain": [
       "[1] \"Driver={SQL Server Native Client 11.0};Server=TRB_MICROSOFT;Database=WideWorldImportersDW;Trusted_Connection=true;\""
      ]
     },
     "metadata": {},
     "output_type": "display_data"
    }
   ],
   "source": [
    "connStr"
   ]
  },
  {
   "cell_type": "code",
   "execution_count": 4,
   "metadata": {
    "collapsed": false
   },
   "outputs": [
    {
     "name": "stdout",
     "output_type": "stream",
     "text": [
      "\n",
      "[Microsoft][SQL Server Native Client 11.0]Invalid value specified for connection string attribute 'Trusted_Connection'\n",
      "\n",
      "\n",
      "\n",
      "[Microsoft][ODBC Driver Manager] Connection not open\n",
      "\n",
      "\n",
      "\n",
      "ODBC Error in SQLDisconnect\n"
     ]
    },
    {
     "ename": "ERROR",
     "evalue": "Error in doTryCatch(return(expr), name, parentenv, handler): [Microsoft][SQL Server Native Client 11.0]Invalid value specified for connection string attribute 'Trusted_Connection'\n\n\n",
     "output_type": "error",
     "traceback": [
      "Error in doTryCatch(return(expr), name, parentenv, handler): [Microsoft][SQL Server Native Client 11.0]Invalid value specified for connection string attribute 'Trusted_Connection'\n\n\nTraceback:\n",
      "1. rxOpen(outOdbcDS, \"w\")",
      "2. rxOpen(outOdbcDS, \"w\")",
      "3. rxCall(\"RxOpenDataSource\", params)",
      "4. tryCatch(.Call(sym, ..., PACKAGE = PACKAGE), interrupt = function(x) {\n .     .C(\"RxUserBreak\", ..., PACKAGE = PACKAGE)\n .     stop(\"RevoScaleR function interrupted\", call. = FALSE)\n . })",
      "5. tryCatchList(expr, classes, parentenv, handlers)",
      "6. tryCatchOne(expr, names, parentenv, handlers[[1L]])",
      "7. doTryCatch(return(expr), name, parentenv, handler)"
     ]
    }
   ],
   "source": [
    "## Open a connection with SQL Server to be able to write queries with the rxExecuteSQLDDL function.\n",
    "\n",
    "outOdbcDS <- RxOdbcData(table = \"NewData\", connectionString = connStr, useFastRead=TRUE)\n",
    "rxOpen(outOdbcDS, \"w\")"
   ]
  },
  {
   "cell_type": "markdown",
   "metadata": {
    "collapsed": true
   },
   "source": [
    "#### the correct syntax for Windows integrated authentication in the example should be 'trusted_Connection=yes'"
   ]
  },
  {
   "cell_type": "code",
   "execution_count": 5,
   "metadata": {
    "collapsed": true
   },
   "outputs": [],
   "source": [
    "#connStr\n",
    "instance_name <- \"TRB_MICROSOFT\"\n",
    "database_name <- \"WideWorldImportersDW\"\n",
    "connStr <- paste(\"Driver={SQL Server Native Client 11.0};Server=\",\n",
    "                 instance_name, \";Database=\",database_name,\";Trusted_Connection=yes;\",sep=\"\");"
   ]
  },
  {
   "cell_type": "code",
   "execution_count": 6,
   "metadata": {
    "collapsed": false
   },
   "outputs": [
    {
     "data": {
      "text/html": [
       "'Driver={SQL Server Native Client 11.0};Server=TRB_MICROSOFT;Database=WideWorldImportersDW;Trusted_Connection=yes;'"
      ],
      "text/latex": [
       "'Driver=\\{SQL Server Native Client 11.0\\};Server=TRB\\_MICROSOFT;Database=WideWorldImportersDW;Trusted\\_Connection=yes;'"
      ],
      "text/markdown": [
       "'Driver={SQL Server Native Client 11.0};Server=TRB_MICROSOFT;Database=WideWorldImportersDW;Trusted_Connection=yes;'"
      ],
      "text/plain": [
       "[1] \"Driver={SQL Server Native Client 11.0};Server=TRB_MICROSOFT;Database=WideWorldImportersDW;Trusted_Connection=yes;\""
      ]
     },
     "metadata": {},
     "output_type": "display_data"
    }
   ],
   "source": [
    "connStr"
   ]
  },
  {
   "cell_type": "code",
   "execution_count": 7,
   "metadata": {
    "collapsed": false
   },
   "outputs": [
    {
     "data": {
      "text/html": [
       "TRUE"
      ],
      "text/latex": [
       "TRUE"
      ],
      "text/markdown": [
       "TRUE"
      ],
      "text/plain": [
       "[1] TRUE"
      ]
     },
     "metadata": {},
     "output_type": "display_data"
    }
   ],
   "source": [
    "## Open a connection with SQL Server to be able to write queries with the rxExecuteSQLDDL function.\n",
    "\n",
    "outOdbcDS <- RxOdbcData(table = \"NewData\", connectionString = connStr, useFastRead=TRUE)\n",
    "rxOpen(outOdbcDS, \"w\")"
   ]
  },
  {
   "cell_type": "code",
   "execution_count": null,
   "metadata": {
    "collapsed": true
   },
   "outputs": [],
   "source": []
  }
 ],
 "metadata": {
  "kernelspec": {
   "display_name": "R 3.3",
   "language": "R",
   "name": "ir33"
  },
  "language_info": {
   "codemirror_mode": "r",
   "file_extension": ".r",
   "mimetype": "text/x-r-source",
   "name": "R",
   "pygments_lexer": "r",
   "version": "3.3.2"
  }
 },
 "nbformat": 4,
 "nbformat_minor": 2
}

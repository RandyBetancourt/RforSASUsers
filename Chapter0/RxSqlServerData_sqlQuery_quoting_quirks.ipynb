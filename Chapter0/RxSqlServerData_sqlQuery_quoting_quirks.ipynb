{
 "cells": [
  {
   "cell_type": "markdown",
   "metadata": {},
   "source": [
    "#### Generate a RxSqlServerData data source object\n",
    "\n",
    "https://msdn.microsoft.com/en-us/microsoft-r/scaler/rxsqlserverdata"
   ]
  },
  {
   "cell_type": "code",
   "execution_count": 1,
   "metadata": {
    "collapsed": true
   },
   "outputs": [],
   "source": [
    "library(RevoScaleR)"
   ]
  },
  {
   "cell_type": "code",
   "execution_count": 2,
   "metadata": {
    "collapsed": false
   },
   "outputs": [],
   "source": [
    "#connStr\n",
    "instance_name <- \"TRB_MICROSOFT\"\n",
    "database_name <- \"WideWorldImportersDW\"\n",
    "connStr <- paste(\"Driver={SQL Server Native Client 11.0};Server=\",\n",
    "                 instance_name, \";Database=\",database_name,\";Trusted_Connection=yes;\",sep=\"\");"
   ]
  },
  {
   "cell_type": "code",
   "execution_count": 3,
   "metadata": {
    "collapsed": false
   },
   "outputs": [
    {
     "data": {
      "text/html": [
       "TRUE"
      ],
      "text/latex": [
       "TRUE"
      ],
      "text/markdown": [
       "TRUE"
      ],
      "text/plain": [
       "[1] TRUE"
      ]
     },
     "metadata": {},
     "output_type": "display_data"
    }
   ],
   "source": [
    "## Open a connection with SQL Server to be able to write queries with the rxExecuteSQLDDL function.\n",
    "\n",
    "outOdbcDS <- RxOdbcData(table = \"NewData\", connectionString = connStr, useFastRead=TRUE)\n",
    "rxOpen(outOdbcDS, \"w\")"
   ]
  },
  {
   "cell_type": "code",
   "execution_count": 4,
   "metadata": {
    "collapsed": false
   },
   "outputs": [
    {
     "name": "stdout",
     "output_type": "stream",
     "text": [
      "[Microsoft][SQL Server Native Client 11.0][SQL Server]Incorrect syntax near 'ID'.\n",
      "[Microsoft][SQL Server Native Client 11.0][SQL Server]Statement(s) could not be prepared.\n",
      "[Microsoft][SQL Server Native Client 11.0][SQL Server]Incorrect syntax near 'ID'.\n",
      "[Microsoft][SQL Server Native Client 11.0][SQL Server]Statement(s) could not be prepared.\n"
     ]
    },
    {
     "ename": "ERROR",
     "evalue": "Error in doTryCatch(return(expr), name, parentenv, handler): [Microsoft][SQL Server Native Client 11.0][SQL Server]Incorrect syntax near 'ID'.\n[Microsoft][SQL Server Native Client 11.0][SQL Server]Statement(s) could not be prepared.\n\n\n",
     "output_type": "error",
     "traceback": [
      "Error in doTryCatch(return(expr), name, parentenv, handler): [Microsoft][SQL Server Native Client 11.0][SQL Server]Incorrect syntax near 'ID'.\n[Microsoft][SQL Server Native Client 11.0][SQL Server]Statement(s) could not be prepared.\n\n\nTraceback:\n",
      "1. rxGetInfo(SqlQ0, getVarInfo = TRUE)",
      "2. rxGetInfoXdfInternal(file = data, getVarInfo = getVarInfo, getBlockSizes = getBlockSizes, \n .     getValueLabels = getValueLabels, varsToKeep = varsToKeep, \n .     varsToDrop = varsToDrop, startRow = startRow, numRows = numRows, \n .     computeInfo = computeInfo, verbose = verbose)",
      "3. rxGetVarInfo(data = file, varsToKeep = varsToKeep, varsToDrop = varsToDrop, \n .     getValueLabels = getValueLabels, computeInfo = computeInfo)",
      "4. rxGetVarInfoXdfInternal(file = data, varsToKeep = varsToKeep, \n .     varsToDrop = varsToDrop, getValueLabels = getValueLabels, \n .     computeInfo = computeInfo)",
      "5. rxGetVarInfoXdfBase(file, varsToKeep = varsToKeep, varsToDrop = varsToDrop, \n .     computeInfo = computeInfo)",
      "6. rxCall(\"RxDataSourceGetMetaInfo\", list(DataSource = dataSource, \n .     VarsToKeep = varsToKeep, VarsToDrop = varsToDrop, computeInfo = computeInfo))",
      "7. tryCatch(.Call(sym, ..., PACKAGE = PACKAGE), interrupt = function(x) {\n .     .C(\"RxUserBreak\", ..., PACKAGE = PACKAGE)\n .     stop(\"RevoScaleR function interrupted\", call. = FALSE)\n . })",
      "8. tryCatchList(expr, classes, parentenv, handlers)",
      "9. tryCatchOne(expr, names, parentenv, handlers[[1L]])",
      "10. doTryCatch(return(expr), name, parentenv, handler)"
     ]
    }
   ],
   "source": [
    "# Fails since the column names have embedded blanks\n",
    "SqlQ0 <- RxSqlServerData(sqlQuery = \"SELECT WWI Customer ID,\n",
    "                                            Customer,\n",
    "                                            Category,\n",
    "                                            Buying Group,\n",
    "                                            Postal Code\n",
    "                                     FROM Dimension.Customer\",\n",
    "                        connectionString = connStr)\n",
    "rxGetInfo(SqlQ0, getVarInfo = TRUE)"
   ]
  },
  {
   "cell_type": "code",
   "execution_count": 5,
   "metadata": {
    "collapsed": false
   },
   "outputs": [
    {
     "data": {
      "text/plain": [
       "Connection string: Driver={SQL Server Native Client 11.0};Server=TRB_MICROSOFT;Database=WideWorldImportersDW;Trusted_Connection=yes; \n",
       "Data Source: SQLSERVER \n",
       "Number of variables: 5 \n",
       "Variable information: \n",
       "Var 1: column1, Type: character\n",
       "Var 2: column2, Type: character\n",
       "Var 3: column3, Type: character\n",
       "Var 4: column4, Type: character\n",
       "Var 5: column5, Type: character"
      ]
     },
     "metadata": {},
     "output_type": "display_data"
    }
   ],
   "source": [
    "# Undeseriable behavior since single quoted column names fail to fetch the SQL/Server column names\n",
    "SqlQ1 <- RxSqlServerData(sqlQuery = \"SELECT 'WWI Customer ID',\n",
    "                                            'Customer',\n",
    "                                            'Category',\n",
    "                                            'Buying Group',\n",
    "                                            'Postal Code'\n",
    "                                     FROM Dimension.Customer\",\n",
    "                        connectionString = connStr)\n",
    "rxGetInfo(SqlQ1, getVarInfo = TRUE)"
   ]
  },
  {
   "cell_type": "code",
   "execution_count": 6,
   "metadata": {
    "collapsed": false
   },
   "outputs": [
    {
     "data": {
      "text/plain": [
       "Connection string: Driver={SQL Server Native Client 11.0};Server=TRB_MICROSOFT;Database=WideWorldImportersDW;Trusted_Connection=yes; \n",
       "Data Source: SQLSERVER \n",
       "Number of variables: 5 \n",
       "Variable information: \n",
       "Var 1: WWI Customer ID, Type: integer\n",
       "Var 2: Customer, Type: character\n",
       "Var 3: Category, Type: character\n",
       "Var 4: Buying Group, Type: character\n",
       "Var 5: Postal Code, Type: character"
      ]
     },
     "metadata": {},
     "output_type": "display_data"
    }
   ],
   "source": [
    "#desired behavior since double quoted column names fetches the SQL Server column names\n",
    "SqlQ2 <- RxSqlServerData(sqlQuery = 'SELECT \"WWI Customer ID\",\n",
    "                                            \"Customer\",\n",
    "                                            \"Category\",\n",
    "                                            \"Buying Group\",\n",
    "                                            \"Postal Code\"\n",
    "                                     FROM Dimension.Customer',\n",
    "                        connectionString = connStr)\n",
    "rxGetInfo(SqlQ2, getVarInfo = TRUE)"
   ]
  },
  {
   "cell_type": "code",
   "execution_count": null,
   "metadata": {
    "collapsed": false
   },
   "outputs": [],
   "source": []
  },
  {
   "cell_type": "code",
   "execution_count": null,
   "metadata": {
    "collapsed": false
   },
   "outputs": [],
   "source": [
    "rxGetInfo(SqlQ2, getVarInfo = TRUE)"
   ]
  },
  {
   "cell_type": "code",
   "execution_count": null,
   "metadata": {
    "collapsed": false
   },
   "outputs": [],
   "source": [
    "CustDf1 <- rxImport(SqlQ1)"
   ]
  },
  {
   "cell_type": "code",
   "execution_count": null,
   "metadata": {
    "collapsed": false
   },
   "outputs": [],
   "source": [
    "is.data.frame(CustDf1)"
   ]
  },
  {
   "cell_type": "code",
   "execution_count": null,
   "metadata": {
    "collapsed": true
   },
   "outputs": [],
   "source": []
  }
 ],
 "metadata": {
  "kernelspec": {
   "display_name": "R 3.3",
   "language": "R",
   "name": "ir33"
  },
  "language_info": {
   "codemirror_mode": "r",
   "file_extension": ".r",
   "mimetype": "text/x-r-source",
   "name": "R",
   "pygments_lexer": "r",
   "version": "3.3.2"
  }
 },
 "nbformat": 4,
 "nbformat_minor": 2
}

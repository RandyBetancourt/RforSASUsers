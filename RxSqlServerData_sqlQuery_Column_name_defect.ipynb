{
 "cells": [
  {
   "cell_type": "code",
   "execution_count": 1,
   "metadata": {
    "collapsed": true
   },
   "outputs": [],
   "source": [
    "library(RevoScaleR)"
   ]
  },
  {
   "cell_type": "code",
   "execution_count": 2,
   "metadata": {
    "collapsed": false
   },
   "outputs": [],
   "source": [
    "#connStr\n",
    "instance_name <- \"TRB_MICROSOFT\"\n",
    "database_name <- \"WideWorldImportersDW\"\n",
    "connStr <- paste(\"Driver={SQL Server Native Client 11.0};Server=\",\n",
    "                 instance_name, \";Database=\",database_name,\";Trusted_Connection=yes;\",sep=\"\");"
   ]
  },
  {
   "cell_type": "code",
   "execution_count": 3,
   "metadata": {
    "collapsed": false
   },
   "outputs": [
    {
     "data": {
      "text/html": [
       "'Driver={SQL Server Native Client 11.0};Server=TRB_MICROSOFT;Database=WideWorldImportersDW;Trusted_Connection=yes;'"
      ],
      "text/latex": [
       "'Driver=\\{SQL Server Native Client 11.0\\};Server=TRB\\_MICROSOFT;Database=WideWorldImportersDW;Trusted\\_Connection=yes;'"
      ],
      "text/markdown": [
       "'Driver={SQL Server Native Client 11.0};Server=TRB_MICROSOFT;Database=WideWorldImportersDW;Trusted_Connection=yes;'"
      ],
      "text/plain": [
       "[1] \"Driver={SQL Server Native Client 11.0};Server=TRB_MICROSOFT;Database=WideWorldImportersDW;Trusted_Connection=yes;\""
      ]
     },
     "metadata": {},
     "output_type": "display_data"
    }
   ],
   "source": [
    "connStr"
   ]
  },
  {
   "cell_type": "code",
   "execution_count": 4,
   "metadata": {
    "collapsed": false
   },
   "outputs": [
    {
     "data": {
      "text/html": [
       "TRUE"
      ],
      "text/latex": [
       "TRUE"
      ],
      "text/markdown": [
       "TRUE"
      ],
      "text/plain": [
       "[1] TRUE"
      ]
     },
     "metadata": {},
     "output_type": "display_data"
    }
   ],
   "source": [
    "## Open a connection with SQL Server to be able to write queries with the rxExecuteSQLDDL function.\n",
    "\n",
    "outOdbcDS <- RxOdbcData(table = \"NewData\", connectionString = connStr, useFastRead=TRUE)\n",
    "rxOpen(outOdbcDS, \"w\")"
   ]
  },
  {
   "cell_type": "markdown",
   "metadata": {},
   "source": [
    "#### Generate a RxSqlServerData data source object\n",
    "\n",
    "https://msdn.microsoft.com/en-us/microsoft-r/scaler/rxsqlserverdata"
   ]
  },
  {
   "cell_type": "code",
   "execution_count": 5,
   "metadata": {
    "collapsed": true
   },
   "outputs": [],
   "source": [
    "SqlQ1 <- RxSqlServerData(sqlQuery = \"SELECT 'WWI Customer ID',\n",
    "                                            'Customer',\n",
    "                                            'Category',\n",
    "                                            'Buying Group',\n",
    "                                            'Postal Code'\n",
    "                                     FROM Dimension.Customer\",\n",
    "                        connectionString = connStr)"
   ]
  },
  {
   "cell_type": "code",
   "execution_count": 6,
   "metadata": {
    "collapsed": true
   },
   "outputs": [],
   "source": [
    "SqlQ2 <- RxSqlServerData(sqlQuery = \"SELECT *\n",
    "                                     FROM Dimension.Customer\",\n",
    "                        connectionString = connStr)"
   ]
  },
  {
   "cell_type": "code",
   "execution_count": 7,
   "metadata": {
    "collapsed": false
   },
   "outputs": [
    {
     "data": {
      "text/plain": [
       "Connection string: Driver={SQL Server Native Client 11.0};Server=TRB_MICROSOFT;Database=WideWorldImportersDW;Trusted_Connection=yes; \n",
       "Data Source: SQLSERVER \n",
       "Number of variables: 5 \n",
       "Variable information: \n",
       "Var 1: column1, Type: character\n",
       "Var 2: column2, Type: character\n",
       "Var 3: column3, Type: character\n",
       "Var 4: column4, Type: character\n",
       "Var 5: column5, Type: character"
      ]
     },
     "metadata": {},
     "output_type": "display_data"
    }
   ],
   "source": [
    "rxGetInfo(SqlQ1, getVarInfo = TRUE)"
   ]
  },
  {
   "cell_type": "code",
   "execution_count": 8,
   "metadata": {
    "collapsed": false
   },
   "outputs": [
    {
     "data": {
      "text/plain": [
       "Connection string: Driver={SQL Server Native Client 11.0};Server=TRB_MICROSOFT;Database=WideWorldImportersDW;Trusted_Connection=yes; \n",
       "Data Source: SQLSERVER \n",
       "Number of variables: 11 \n",
       "Variable information: \n",
       "Var 1: Customer Key, Type: integer\n",
       "Var 2: WWI Customer ID, Type: integer\n",
       "Var 3: Customer, Type: character\n",
       "Var 4: Bill To Customer, Type: character\n",
       "Var 5: Category, Type: character\n",
       "Var 6: Buying Group, Type: character\n",
       "Var 7: Primary Contact, Type: character\n",
       "Var 8: Postal Code, Type: character\n",
       "Var 9: Valid From, Type: character\n",
       "Var 10: Valid To, Type: character\n",
       "Var 11: Lineage Key, Type: integer"
      ]
     },
     "metadata": {},
     "output_type": "display_data"
    }
   ],
   "source": [
    "rxGetInfo(SqlQ2, getVarInfo = TRUE)"
   ]
  },
  {
   "cell_type": "code",
   "execution_count": 9,
   "metadata": {
    "collapsed": false
   },
   "outputs": [
    {
     "name": "stdout",
     "output_type": "stream",
     "text": [
      "Rows Read: 403, Total Rows Processed: 403, Total Chunk Time: 0.042 seconds \n"
     ]
    }
   ],
   "source": [
    "CustDf1 <- rxImport(SqlQ1)"
   ]
  },
  {
   "cell_type": "code",
   "execution_count": 10,
   "metadata": {
    "collapsed": false
   },
   "outputs": [
    {
     "data": {
      "text/html": [
       "TRUE"
      ],
      "text/latex": [
       "TRUE"
      ],
      "text/markdown": [
       "TRUE"
      ],
      "text/plain": [
       "[1] TRUE"
      ]
     },
     "metadata": {},
     "output_type": "display_data"
    }
   ],
   "source": [
    "is.data.frame(CustDf1)"
   ]
  },
  {
   "cell_type": "code",
   "execution_count": null,
   "metadata": {
    "collapsed": true
   },
   "outputs": [],
   "source": []
  }
 ],
 "metadata": {
  "kernelspec": {
   "display_name": "R 3.3",
   "language": "R",
   "name": "ir33"
  },
  "language_info": {
   "codemirror_mode": "r",
   "file_extension": ".r",
   "mimetype": "text/x-r-source",
   "name": "R",
   "pygments_lexer": "r",
   "version": "3.3.2"
  }
 },
 "nbformat": 4,
 "nbformat_minor": 2
}

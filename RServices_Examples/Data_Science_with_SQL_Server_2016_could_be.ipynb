{
 "cells": [
  {
   "cell_type": "markdown",
   "metadata": {},
   "source": [
    "#### Data Science with Microsoft SQL Server 2016\n",
    "\n",
    "\"file:\\\\\\C:\\Users\\v-thbeta\\Downloads\\9781509304318_Data%20Science%20with%20Microsoft%20SQL%20Server%202016_pdf.pdf\""
   ]
  },
  {
   "cell_type": "code",
   "execution_count": 1,
   "metadata": {
    "collapsed": true
   },
   "outputs": [],
   "source": [
    "library(RevoScaleR)"
   ]
  },
  {
   "cell_type": "code",
   "execution_count": 2,
   "metadata": {
    "collapsed": true
   },
   "outputs": [],
   "source": [
    "#connStr\n",
    "instance_name <- \"TRB_MICROSOFT\"\n",
    "database_name <- \"WideWorldImportersDW\"\n",
    "connStr <- paste(\"Driver={SQL Server Native Client 11.0};Server=\",\n",
    "                 instance_name, \";Database=\",database_name,\";Trusted_Connection=yes;\",sep=\"\");"
   ]
  },
  {
   "cell_type": "code",
   "execution_count": 3,
   "metadata": {
    "collapsed": false
   },
   "outputs": [
    {
     "data": {
      "text/html": [
       "TRUE"
      ],
      "text/latex": [
       "TRUE"
      ],
      "text/markdown": [
       "TRUE"
      ],
      "text/plain": [
       "[1] TRUE"
      ]
     },
     "metadata": {},
     "output_type": "display_data"
    }
   ],
   "source": [
    "## Open a connection with SQL Server to be able to write queries with the rxExecuteSQLDDL function.\n",
    "\n",
    "outOdbcDS <- RxOdbcData(table = \"NewData\", connectionString = connStr, useFastRead=TRUE)\n",
    "rxOpen(outOdbcDS, \"w\")"
   ]
  },
  {
   "cell_type": "code",
   "execution_count": 4,
   "metadata": {
    "collapsed": true
   },
   "outputs": [],
   "source": [
    "# Create a variable to store the data returned from the SQL Server, with the user’s name,\n",
    "# a variable for the parameters to pass to the SQL Server,\n",
    "# the values you can pass to the RxSQLServerdata constructor\n",
    "sqlShareDir <- paste(\"C:\\\\temp\\\\\",Sys.getenv(\"USERNAME\"),sep=\"\")\n",
    "sqlWait <- TRUE\n",
    "sqlConsoleOutput <- FALSE"
   ]
  },
  {
   "cell_type": "code",
   "execution_count": 5,
   "metadata": {
    "collapsed": false
   },
   "outputs": [
    {
     "data": {
      "text/html": [
       "'C:\\temp\\v-thbeta'"
      ],
      "text/latex": [
       "'C:\\textbackslash{}temp\\textbackslash{}v-thbeta'"
      ],
      "text/markdown": [
       "'C:\\temp\\v-thbeta'"
      ],
      "text/plain": [
       "[1] \"C:\\\\temp\\\\v-thbeta\""
      ]
     },
     "metadata": {},
     "output_type": "display_data"
    }
   ],
   "source": [
    "sqlShareDir"
   ]
  },
  {
   "cell_type": "code",
   "execution_count": 6,
   "metadata": {
    "collapsed": true
   },
   "outputs": [],
   "source": [
    "# Now we’ll set the compute context for the data object, using all the variables\n",
    "# we just created.\n",
    "cc <- RxInSqlServer(connectionString = connStr, shareDir = sqlShareDir, wait = sqlWait, consoleOutput =\n",
    "sqlConsoleOutput)"
   ]
  },
  {
   "cell_type": "code",
   "execution_count": 7,
   "metadata": {
    "collapsed": true
   },
   "outputs": [],
   "source": [
    "# Next we can set the compute context to point to SQL Server R Services, defined earlier.\n",
    "rxSetComputeContext(cc)"
   ]
  },
  {
   "cell_type": "code",
   "execution_count": 8,
   "metadata": {
    "collapsed": true
   },
   "outputs": [],
   "source": [
    "# We can then construct the T-SQL query. This one simply brings back three columns.  \n",
    "# This example would work if the user happened to have a SQL/Server table named MyTableName with columns \"Col1\", \"Col2\", \"Col3\"\n",
    "# The authors assumed that users would be clever enough to realize this is not the case\n",
    "#sampleDataQuery <- \"select Col1, Col2, Col3 from MyTableName\""
   ]
  },
  {
   "cell_type": "code",
   "execution_count": 9,
   "metadata": {
    "collapsed": true
   },
   "outputs": [],
   "source": [
    "# What if there were a canonical database that was used for all the R services examples?  Afterall, there is the \n",
    "# \"AdventureWorks\" database for previous releases of SQL/Server.  And there is the \"WideWorldImportersDW\" database for \n",
    "# SQL/Server 2016.  Why not just tell users to go fetch this database Microsoft has on github at:\n",
    "# https://github.com/Microsoft/sql-server-samples/tree/master/samples/databases/wide-world-importers"
   ]
  },
  {
   "cell_type": "code",
   "execution_count": 10,
   "metadata": {
    "collapsed": true
   },
   "outputs": [],
   "source": [
    "# After we told the user to load the \"WideWorldImportersDW\" database, we can construct queries with a known database\n",
    "sampleDataQuery <- \"select [Customer Key], [Total Excluding Tax], [Tax Amount] FROM [WideWorldImportersDW].[Fact].[Transaction]\""
   ]
  },
  {
   "cell_type": "code",
   "execution_count": 11,
   "metadata": {
    "collapsed": false
   },
   "outputs": [],
   "source": [
    "# Finally we run the query, using all of the objects set up in the script.\n",
    "# Note that we’re using a colClasses variable to convert the data types to something\n",
    "# R understands, since SQL Server has more datatypes than R, and we’re reading 500 rows\n",
    "# at a time.\n",
    "inDataSource <- RxSqlServerData(sqlQuery = sampleDataQuery, connectionString = connStr,\n",
    "colClasses = c(Col1 = \"numeric\", Col2 = \"numeric\", Col3 = \"numeric\"), rowsPerRead=500)"
   ]
  },
  {
   "cell_type": "code",
   "execution_count": 12,
   "metadata": {
    "collapsed": false
   },
   "outputs": [
    {
     "data": {
      "text/html": [
       "FALSE"
      ],
      "text/latex": [
       "FALSE"
      ],
      "text/markdown": [
       "FALSE"
      ],
      "text/plain": [
       "[1] FALSE"
      ]
     },
     "metadata": {},
     "output_type": "display_data"
    }
   ],
   "source": [
    "# If I am a new user I might assume at the end of this exercise, I would have extracted rows and columns from SQL/Server\n",
    "# and expected an R dataframe to be returned.  They would have guessed wrong.\n",
    "is.data.frame(inDataSource)"
   ]
  },
  {
   "cell_type": "code",
   "execution_count": 13,
   "metadata": {
    "collapsed": false
   },
   "outputs": [
    {
     "name": "stdout",
     "output_type": "stream",
     "text": [
      "Formal class 'RxSqlServerData' [package \"RevoScaleR\"] with 23 slots\n",
      "  ..@ inSqlServer          : logi(0) \n",
      "  ..@ computeSqlQueryOnly  : logi(0) \n",
      "  ..@ table                : NULL\n",
      "  ..@ sqlQuery             : chr \"select [Customer Key], [Total Excluding Tax], [Tax Amount] FROM [WideWorldImportersDW].[Fact].[Transaction]\"\n",
      "  ..@ useFastRead          : logi TRUE\n",
      "  ..@ trimSpace            : logi TRUE\n",
      "  ..@ server               : NULL\n",
      "  ..@ dbmsName             : NULL\n",
      "  ..@ databaseName         : NULL\n",
      "  ..@ dsn                  : NULL\n",
      "  ..@ user                 : NULL\n",
      "  ..@ password             : NULL\n",
      "  ..@ connectionString     : chr \"Driver={SQL Server Native Client 11.0};Server=TRB_MICROSOFT;Database=WideWorldImportersDW;Trusted_Connection=yes;\"\n",
      "  ..@ rowBuffering         : logi TRUE\n",
      "  ..@ writeFactorsAsIndexes: logi FALSE\n",
      "  ..@ isolationLevel       : NULL\n",
      "  ..@ id                   :<externalptr> \n",
      "  ..@ colClasses           : Named chr [1:3] \"numeric\" \"numeric\" \"numeric\"\n",
      "  .. ..- attr(*, \"names\")= chr [1:3] \"Col1\" \"Col2\" \"Col3\"\n",
      "  ..@ colInfo              : NULL\n",
      "  ..@ returnDataFrame      : logi TRUE\n",
      "  ..@ stringsAsFactors     : logi FALSE\n",
      "  ..@ rowsOrBlocksPerRead  : int 500\n",
      "  ..@ compatibilityRequest :Classes 'CompatibilityRequest', 'R6' <CompatibilityRequest>\n",
      "  Public:\n",
      "    assertServerCapability: function (capability, notSupported, notKnown) \n",
      "    clone: function (deep = FALSE) \n",
      "    deferredAssertServerCapability: function (capability, notSupported, notKnown) \n",
      "    getRequestedCapabilities: function () \n",
      "    initialize: function (server, notSupported = capabilityNotSupported, notKnown = serverNotKnown) \n",
      "    merge: function (request) \n",
      "    requestCapability: function (capability) \n",
      "    runDeferredAssertions: function (server) \n",
      "    serialize: function (file) \n",
      "  Private:\n",
      "    deferredRequests: list\n",
      "    notKnown: function (server, capability, warningMessage) \n",
      "    notSupported: function (server, capability, errorMessage) \n",
      "    requestedCapabilities: \n",
      "    runCallback: function (type, server, capability, userHandler) \n",
      "    server: ServerDefinition, AbstractServerDefinition \n"
     ]
    }
   ],
   "source": [
    "# For a new user, they need to begin understanding the object that was just created.\n",
    "str(inDataSource)"
   ]
  },
  {
   "cell_type": "code",
   "execution_count": 14,
   "metadata": {
    "collapsed": false
   },
   "outputs": [
    {
     "name": "stdout",
     "output_type": "stream",
     "text": [
      "Rows Read: 500, Total Rows Processed: 500, Total Chunk Time: 0.035 seconds\n",
      "Rows Read: 500, Total Rows Processed: 1000, Total Chunk Time: 0.001 seconds\n",
      "Rows Read: 500, Total Rows Processed: 1500, Total Chunk Time: 0.001 seconds\n",
      "Rows Read: 500, Total Rows Processed: 2000, Total Chunk Time: Less than .001 seconds\n",
      "Rows Read: 500, Total Rows Processed: 2500, Total Chunk Time: 0.001 seconds\n",
      "Rows Read: 500, Total Rows Processed: 3000, Total Chunk Time: Less than .001 seconds\n",
      "Rows Read: 500, Total Rows Processed: 3500, Total Chunk Time: 0.001 seconds\n",
      "Rows Read: 500, Total Rows Processed: 4000, Total Chunk Time: 0.002 seconds\n",
      "Rows Read: 500, Total Rows Processed: 4500, Total Chunk Time: 0.001 seconds\n",
      "Rows Read: 500, Total Rows Processed: 5000, Total Chunk Time: Less than .001 seconds\n",
      "Rows Read: 500, Total Rows Processed: 5500, Total Chunk Time: 0.002 seconds\n",
      "Rows Read: 500, Total Rows Processed: 6000, Total Chunk Time: Less than .001 seconds\n",
      "Rows Read: 500, Total Rows Processed: 6500, Total Chunk Time: 0.001 seconds\n",
      "Rows Read: 500, Total Rows Processed: 7000, Total Chunk Time: 0.001 seconds\n",
      "Rows Read: 500, Total Rows Processed: 7500, Total Chunk Time: Less than .001 seconds\n",
      "Rows Read: 500, Total Rows Processed: 8000, Total Chunk Time: 0.002 seconds\n",
      "Rows Read: 500, Total Rows Processed: 8500, Total Chunk Time: Less than .001 seconds\n",
      "Rows Read: 500, Total Rows Processed: 9000, Total Chunk Time: 0.001 seconds\n",
      "Rows Read: 500, Total Rows Processed: 9500, Total Chunk Time: 0.001 seconds\n",
      "Rows Read: 500, Total Rows Processed: 10000, Total Chunk Time: Less than .001 seconds\n",
      "Rows Read: 500, Total Rows Processed: 10500, Total Chunk Time: 0.002 seconds\n",
      "Rows Read: 500, Total Rows Processed: 11000, Total Chunk Time: Less than .001 seconds\n",
      "Rows Read: 500, Total Rows Processed: 11500, Total Chunk Time: 0.001 seconds\n",
      "Rows Read: 500, Total Rows Processed: 12000, Total Chunk Time: 0.001 seconds\n",
      "Rows Read: 500, Total Rows Processed: 12500, Total Chunk Time: Less than .001 seconds\n",
      "Rows Read: 500, Total Rows Processed: 13000, Total Chunk Time: 0.001 seconds\n",
      "Rows Read: 500, Total Rows Processed: 13500, Total Chunk Time: 0.001 seconds\n",
      "Rows Read: 500, Total Rows Processed: 14000, Total Chunk Time: Less than .001 seconds\n",
      "Rows Read: 500, Total Rows Processed: 14500, Total Chunk Time: 0.001 seconds\n",
      "Rows Read: 500, Total Rows Processed: 15000, Total Chunk Time: 0.001 seconds\n",
      "Rows Read: 500, Total Rows Processed: 15500, Total Chunk Time: Less than .001 seconds\n",
      "Rows Read: 500, Total Rows Processed: 16000, Total Chunk Time: 0.002 seconds\n",
      "Rows Read: 500, Total Rows Processed: 16500, Total Chunk Time: Less than .001 seconds\n",
      "Rows Read: 500, Total Rows Processed: 17000, Total Chunk Time: 0.001 seconds\n",
      "Rows Read: 500, Total Rows Processed: 17500, Total Chunk Time: Less than .001 seconds\n",
      "Rows Read: 500, Total Rows Processed: 18000, Total Chunk Time: 0.001 seconds\n",
      "Rows Read: 500, Total Rows Processed: 18500, Total Chunk Time: 0.001 seconds\n",
      "Rows Read: 500, Total Rows Processed: 19000, Total Chunk Time: Less than .001 seconds\n",
      "Rows Read: 500, Total Rows Processed: 19500, Total Chunk Time: 0.001 seconds\n",
      "Rows Read: 500, Total Rows Processed: 20000, Total Chunk Time: 0.001 seconds\n",
      "Rows Read: 500, Total Rows Processed: 20500, Total Chunk Time: Less than .001 seconds\n",
      "Rows Read: 500, Total Rows Processed: 21000, Total Chunk Time: 0.001 seconds\n",
      "Rows Read: 500, Total Rows Processed: 21500, Total Chunk Time: 0.002 seconds\n",
      "Rows Read: 500, Total Rows Processed: 22000, Total Chunk Time: 0.001 seconds\n",
      "Rows Read: 500, Total Rows Processed: 22500, Total Chunk Time: 0.001 seconds\n",
      "Rows Read: 500, Total Rows Processed: 23000, Total Chunk Time: Less than .001 seconds\n",
      "Rows Read: 500, Total Rows Processed: 23500, Total Chunk Time: 0.001 seconds\n",
      "Rows Read: 500, Total Rows Processed: 24000, Total Chunk Time: 0.001 seconds\n",
      "Rows Read: 500, Total Rows Processed: 24500, Total Chunk Time: Less than .001 seconds\n",
      "Rows Read: 500, Total Rows Processed: 25000, Total Chunk Time: 0.001 seconds\n",
      "Rows Read: 500, Total Rows Processed: 25500, Total Chunk Time: 0.002 seconds\n",
      "Rows Read: 500, Total Rows Processed: 26000, Total Chunk Time: 0.001 seconds\n",
      "Rows Read: 500, Total Rows Processed: 26500, Total Chunk Time: 0.001 seconds\n",
      "Rows Read: 500, Total Rows Processed: 27000, Total Chunk Time: Less than .001 seconds\n",
      "Rows Read: 500, Total Rows Processed: 27500, Total Chunk Time: 0.001 seconds\n",
      "Rows Read: 500, Total Rows Processed: 28000, Total Chunk Time: 0.001 seconds\n",
      "Rows Read: 500, Total Rows Processed: 28500, Total Chunk Time: Less than .001 seconds\n",
      "Rows Read: 500, Total Rows Processed: 29000, Total Chunk Time: 0.001 seconds\n",
      "Rows Read: 500, Total Rows Processed: 29500, Total Chunk Time: 0.001 seconds\n",
      "Rows Read: 500, Total Rows Processed: 30000, Total Chunk Time: Less than .001 seconds\n",
      "Rows Read: 500, Total Rows Processed: 30500, Total Chunk Time: 0.001 seconds\n",
      "Rows Read: 500, Total Rows Processed: 31000, Total Chunk Time: 0.002 seconds\n",
      "Rows Read: 500, Total Rows Processed: 31500, Total Chunk Time: 0.001 seconds\n",
      "Rows Read: 500, Total Rows Processed: 32000, Total Chunk Time: Less than .001 seconds\n",
      "Rows Read: 500, Total Rows Processed: 32500, Total Chunk Time: 0.001 seconds\n",
      "Rows Read: 500, Total Rows Processed: 33000, Total Chunk Time: 0.001 seconds\n",
      "Rows Read: 500, Total Rows Processed: 33500, Total Chunk Time: Less than .001 seconds\n",
      "Rows Read: 500, Total Rows Processed: 34000, Total Chunk Time: 0.002 seconds\n",
      "Rows Read: 500, Total Rows Processed: 34500, Total Chunk Time: Less than .001 seconds\n",
      "Rows Read: 500, Total Rows Processed: 35000, Total Chunk Time: 0.001 seconds\n",
      "Rows Read: 500, Total Rows Processed: 35500, Total Chunk Time: 0.001 seconds\n",
      "Rows Read: 500, Total Rows Processed: 36000, Total Chunk Time: Less than .001 seconds\n",
      "Rows Read: 500, Total Rows Processed: 36500, Total Chunk Time: 0.001 seconds\n",
      "Rows Read: 500, Total Rows Processed: 37000, Total Chunk Time: 0.001 seconds\n",
      "Rows Read: 500, Total Rows Processed: 37500, Total Chunk Time: Less than .001 seconds\n",
      "Rows Read: 500, Total Rows Processed: 38000, Total Chunk Time: 0.001 seconds\n",
      "Rows Read: 500, Total Rows Processed: 38500, Total Chunk Time: 0.002 seconds\n",
      "Rows Read: 500, Total Rows Processed: 39000, Total Chunk Time: 0.001 seconds\n",
      "Rows Read: 500, Total Rows Processed: 39500, Total Chunk Time: 0.001 seconds\n",
      "Rows Read: 500, Total Rows Processed: 40000, Total Chunk Time: Less than .001 seconds\n",
      "Rows Read: 500, Total Rows Processed: 40500, Total Chunk Time: 0.001 seconds\n",
      "Rows Read: 500, Total Rows Processed: 41000, Total Chunk Time: 0.001 seconds\n",
      "Rows Read: 500, Total Rows Processed: 41500, Total Chunk Time: Less than .001 seconds\n",
      "Rows Read: 500, Total Rows Processed: 42000, Total Chunk Time: 0.001 seconds\n",
      "Rows Read: 500, Total Rows Processed: 42500, Total Chunk Time: 0.001 seconds\n",
      "Rows Read: 500, Total Rows Processed: 43000, Total Chunk Time: 0.002 seconds\n",
      "Rows Read: 500, Total Rows Processed: 43500, Total Chunk Time: 0.001 seconds\n",
      "Rows Read: 500, Total Rows Processed: 44000, Total Chunk Time: Less than .001 seconds\n",
      "Rows Read: 500, Total Rows Processed: 44500, Total Chunk Time: 0.001 seconds\n",
      "Rows Read: 500, Total Rows Processed: 45000, Total Chunk Time: 0.001 seconds\n",
      "Rows Read: 500, Total Rows Processed: 45500, Total Chunk Time: Less than .001 seconds\n",
      "Rows Read: 500, Total Rows Processed: 46000, Total Chunk Time: 0.001 seconds\n",
      "Rows Read: 500, Total Rows Processed: 46500, Total Chunk Time: Less than .001 seconds\n",
      "Rows Read: 500, Total Rows Processed: 47000, Total Chunk Time: 0.001 seconds\n",
      "Rows Read: 500, Total Rows Processed: 47500, Total Chunk Time: 0.001 seconds\n",
      "Rows Read: 500, Total Rows Processed: 48000, Total Chunk Time: Less than .001 seconds\n",
      "Rows Read: 500, Total Rows Processed: 48500, Total Chunk Time: 0.001 seconds\n",
      "Rows Read: 500, Total Rows Processed: 49000, Total Chunk Time: 0.001 seconds\n",
      "Rows Read: 500, Total Rows Processed: 49500, Total Chunk Time: Less than .001 seconds\n",
      "Rows Read: 500, Total Rows Processed: 50000, Total Chunk Time: 0.001 seconds\n",
      "Rows Read: 500, Total Rows Processed: 50500, Total Chunk Time: 0.001 seconds\n",
      "Rows Read: 500, Total Rows Processed: 51000, Total Chunk Time: Less than .001 seconds\n",
      "Rows Read: 500, Total Rows Processed: 51500, Total Chunk Time: 0.002 seconds\n",
      "Rows Read: 500, Total Rows Processed: 52000, Total Chunk Time: Less than .001 seconds\n",
      "Rows Read: 500, Total Rows Processed: 52500, Total Chunk Time: 0.001 seconds\n",
      "Rows Read: 500, Total Rows Processed: 53000, Total Chunk Time: 0.001 seconds\n",
      "Rows Read: 500, Total Rows Processed: 53500, Total Chunk Time: Less than .001 seconds\n",
      "Rows Read: 500, Total Rows Processed: 54000, Total Chunk Time: 0.001 seconds\n",
      "Rows Read: 500, Total Rows Processed: 54500, Total Chunk Time: 0.001 seconds\n",
      "Rows Read: 500, Total Rows Processed: 55000, Total Chunk Time: Less than .001 seconds\n",
      "Rows Read: 500, Total Rows Processed: 55500, Total Chunk Time: 0.001 seconds\n",
      "Rows Read: 500, Total Rows Processed: 56000, Total Chunk Time: 0.001 seconds\n",
      "Rows Read: 500, Total Rows Processed: 56500, Total Chunk Time: Less than .001 seconds\n",
      "Rows Read: 500, Total Rows Processed: 57000, Total Chunk Time: 0.001 seconds\n",
      "Rows Read: 500, Total Rows Processed: 57500, Total Chunk Time: 0.001 seconds\n",
      "Rows Read: 500, Total Rows Processed: 58000, Total Chunk Time: Less than .001 seconds\n",
      "Rows Read: 500, Total Rows Processed: 58500, Total Chunk Time: 0.001 seconds\n",
      "Rows Read: 500, Total Rows Processed: 59000, Total Chunk Time: 0.001 seconds\n",
      "Rows Read: 500, Total Rows Processed: 59500, Total Chunk Time: 0.002 seconds\n",
      "Rows Read: 500, Total Rows Processed: 60000, Total Chunk Time: Less than .001 seconds\n",
      "Rows Read: 500, Total Rows Processed: 60500, Total Chunk Time: 0.001 seconds\n",
      "Rows Read: 500, Total Rows Processed: 61000, Total Chunk Time: 0.001 seconds\n",
      "Rows Read: 500, Total Rows Processed: 61500, Total Chunk Time: Less than .001 seconds\n",
      "Rows Read: 500, Total Rows Processed: 62000, Total Chunk Time: 0.001 seconds\n",
      "Rows Read: 500, Total Rows Processed: 62500, Total Chunk Time: 0.001 seconds\n",
      "Rows Read: 500, Total Rows Processed: 63000, Total Chunk Time: Less than .001 seconds\n",
      "Rows Read: 500, Total Rows Processed: 63500, Total Chunk Time: 0.001 seconds\n",
      "Rows Read: 500, Total Rows Processed: 64000, Total Chunk Time: 0.001 seconds\n",
      "Rows Read: 500, Total Rows Processed: 64500, Total Chunk Time: Less than .001 seconds\n",
      "Rows Read: 500, Total Rows Processed: 65000, Total Chunk Time: 0.001 seconds\n",
      "Rows Read: 500, Total Rows Processed: 65500, Total Chunk Time: 0.001 seconds\n",
      "Rows Read: 500, Total Rows Processed: 66000, Total Chunk Time: Less than .001 seconds\n",
      "Rows Read: 500, Total Rows Processed: 66500, Total Chunk Time: 0.001 seconds\n",
      "Rows Read: 500, Total Rows Processed: 67000, Total Chunk Time: 0.002 seconds\n",
      "Rows Read: 500, Total Rows Processed: 67500, Total Chunk Time: 0.001 seconds\n",
      "Rows Read: 500, Total Rows Processed: 68000, Total Chunk Time: 0.001 seconds\n",
      "Rows Read: 500, Total Rows Processed: 68500, Total Chunk Time: Less than .001 seconds\n",
      "Rows Read: 500, Total Rows Processed: 69000, Total Chunk Time: 0.001 seconds\n",
      "Rows Read: 500, Total Rows Processed: 69500, Total Chunk Time: 0.001 seconds\n",
      "Rows Read: 500, Total Rows Processed: 70000, Total Chunk Time: Less than .001 seconds\n",
      "Rows Read: 500, Total Rows Processed: 70500, Total Chunk Time: 0.001 seconds\n",
      "Rows Read: 500, Total Rows Processed: 71000, Total Chunk Time: 0.001 seconds\n",
      "Rows Read: 500, Total Rows Processed: 71500, Total Chunk Time: Less than .001 seconds\n",
      "Rows Read: 500, Total Rows Processed: 72000, Total Chunk Time: 0.001 seconds\n",
      "Rows Read: 500, Total Rows Processed: 72500, Total Chunk Time: 0.001 seconds\n",
      "Rows Read: 500, Total Rows Processed: 73000, Total Chunk Time: 0.002 seconds\n",
      "Rows Read: 500, Total Rows Processed: 73500, Total Chunk Time: 0.001 seconds\n",
      "Rows Read: 500, Total Rows Processed: 74000, Total Chunk Time: Less than .001 seconds\n",
      "Rows Read: 500, Total Rows Processed: 74500, Total Chunk Time: 0.001 seconds\n",
      "Rows Read: 500, Total Rows Processed: 75000, Total Chunk Time: Less than .001 seconds\n",
      "Rows Read: 500, Total Rows Processed: 75500, Total Chunk Time: 0.001 seconds\n",
      "Rows Read: 500, Total Rows Processed: 76000, Total Chunk Time: 0.001 seconds\n",
      "Rows Read: 500, Total Rows Processed: 76500, Total Chunk Time: Less than .001 seconds\n",
      "Rows Read: 500, Total Rows Processed: 77000, Total Chunk Time: 0.001 seconds\n",
      "Rows Read: 500, Total Rows Processed: 77500, Total Chunk Time: 0.001 seconds\n",
      "Rows Read: 500, Total Rows Processed: 78000, Total Chunk Time: Less than .001 seconds\n",
      "Rows Read: 500, Total Rows Processed: 78500, Total Chunk Time: 0.002 seconds\n",
      "Rows Read: 500, Total Rows Processed: 79000, Total Chunk Time: Less than .001 seconds\n",
      "Rows Read: 500, Total Rows Processed: 79500, Total Chunk Time: 0.001 seconds\n",
      "Rows Read: 500, Total Rows Processed: 80000, Total Chunk Time: 0.001 seconds\n",
      "Rows Read: 500, Total Rows Processed: 80500, Total Chunk Time: Less than .001 seconds\n",
      "Rows Read: 500, Total Rows Processed: 81000, Total Chunk Time: 0.002 seconds\n",
      "Rows Read: 500, Total Rows Processed: 81500, Total Chunk Time: Less than .001 seconds\n",
      "Rows Read: 500, Total Rows Processed: 82000, Total Chunk Time: 0.001 seconds\n",
      "Rows Read: 500, Total Rows Processed: 82500, Total Chunk Time: 0.001 seconds\n",
      "Rows Read: 500, Total Rows Processed: 83000, Total Chunk Time: Less than .001 seconds\n",
      "Rows Read: 500, Total Rows Processed: 83500, Total Chunk Time: 0.001 seconds\n",
      "Rows Read: 500, Total Rows Processed: 84000, Total Chunk Time: 0.001 seconds\n",
      "Rows Read: 500, Total Rows Processed: 84500, Total Chunk Time: Less than .001 seconds\n",
      "Rows Read: 500, Total Rows Processed: 85000, Total Chunk Time: 0.001 seconds\n",
      "Rows Read: 500, Total Rows Processed: 85500, Total Chunk Time: 0.001 seconds\n",
      "Rows Read: 500, Total Rows Processed: 86000, Total Chunk Time: 0.002 seconds\n",
      "Rows Read: 500, Total Rows Processed: 86500, Total Chunk Time: 0.001 seconds\n",
      "Rows Read: 500, Total Rows Processed: 87000, Total Chunk Time: Less than .001 seconds\n",
      "Rows Read: 500, Total Rows Processed: 87500, Total Chunk Time: 0.001 seconds\n",
      "Rows Read: 500, Total Rows Processed: 88000, Total Chunk Time: 0.001 seconds\n",
      "Rows Read: 500, Total Rows Processed: 88500, Total Chunk Time: Less than .001 seconds\n",
      "Rows Read: 500, Total Rows Processed: 89000, Total Chunk Time: 0.001 seconds\n",
      "Rows Read: 500, Total Rows Processed: 89500, Total Chunk Time: Less than .001 seconds\n",
      "Rows Read: 500, Total Rows Processed: 90000, Total Chunk Time: 0.001 seconds\n",
      "Rows Read: 500, Total Rows Processed: 90500, Total Chunk Time: 0.001 seconds\n",
      "Rows Read: 500, Total Rows Processed: 91000, Total Chunk Time: 0.002 seconds\n",
      "Rows Read: 500, Total Rows Processed: 91500, Total Chunk Time: 0.001 seconds\n",
      "Rows Read: 500, Total Rows Processed: 92000, Total Chunk Time: Less than .001 seconds\n",
      "Rows Read: 500, Total Rows Processed: 92500, Total Chunk Time: 0.001 seconds\n",
      "Rows Read: 500, Total Rows Processed: 93000, Total Chunk Time: 0.001 seconds\n",
      "Rows Read: 500, Total Rows Processed: 93500, Total Chunk Time: Less than .001 seconds\n",
      "Rows Read: 500, Total Rows Processed: 94000, Total Chunk Time: 0.001 seconds\n",
      "Rows Read: 500, Total Rows Processed: 94500, Total Chunk Time: 0.002 seconds\n",
      "Rows Read: 500, Total Rows Processed: 95000, Total Chunk Time: 0.001 seconds\n",
      "Rows Read: 500, Total Rows Processed: 95500, Total Chunk Time: 0.001 seconds\n",
      "Rows Read: 500, Total Rows Processed: 96000, Total Chunk Time: Less than .001 seconds\n",
      "Rows Read: 500, Total Rows Processed: 96500, Total Chunk Time: 0.001 seconds\n",
      "Rows Read: 500, Total Rows Processed: 97000, Total Chunk Time: 0.001 seconds\n",
      "Rows Read: 500, Total Rows Processed: 97500, Total Chunk Time: Less than .001 seconds\n",
      "Rows Read: 500, Total Rows Processed: 98000, Total Chunk Time: 0.001 seconds\n",
      "Rows Read: 500, Total Rows Processed: 98500, Total Chunk Time: 0.002 seconds\n",
      "Rows Read: 500, Total Rows Processed: 99000, Total Chunk Time: 0.001 seconds\n",
      "Rows Read: 500, Total Rows Processed: 99500, Total Chunk Time: 0.001 seconds\n",
      "Rows Read: 85, Total Rows Processed: 99585, Total Chunk Time: Less than .001 seconds \n"
     ]
    }
   ],
   "source": [
    "# Ultimately, we will execute an R script inside of SQL/Server since there is a resource limit on how large a dataframe we can\n",
    "# load into memory.  The rxImport step with an outFile argument produces a dataframe.  With the outFile argument produces\n",
    "# an xdF file.  \n",
    "\n",
    "df1 <-rxImport(inDataSource)"
   ]
  },
  {
   "cell_type": "code",
   "execution_count": null,
   "metadata": {
    "collapsed": true
   },
   "outputs": [],
   "source": []
  }
 ],
 "metadata": {
  "kernelspec": {
   "display_name": "R 3.3",
   "language": "R",
   "name": "ir33"
  },
  "language_info": {
   "codemirror_mode": "r",
   "file_extension": ".r",
   "mimetype": "text/x-r-source",
   "name": "R",
   "pygments_lexer": "r",
   "version": "3.3.2"
  }
 },
 "nbformat": 4,
 "nbformat_minor": 2
}
